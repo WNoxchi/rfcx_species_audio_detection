{
 "cells": [
  {
   "cell_type": "code",
   "execution_count": null,
   "metadata": {},
   "outputs": [],
   "source": [
    "# default_exp utils"
   ]
  },
  {
   "cell_type": "markdown",
   "metadata": {},
   "source": [
    "# API Name\n",
    "\n",
    "> API details."
   ]
  },
  {
   "cell_type": "code",
   "execution_count": null,
   "metadata": {},
   "outputs": [],
   "source": [
    "# export\n",
    "import numpy as np\n",
    "import pandas as pd\n",
    "import librosa\n",
    "import matplotlib.pyplot as plt"
   ]
  },
  {
   "cell_type": "code",
   "execution_count": null,
   "metadata": {},
   "outputs": [],
   "source": [
    "# export\n",
    "# ignore librosa pysoundfile load warning\n",
    "import warnings\n",
    "warnings.filterwarnings(action='ignore', category=UserWarning, module=r'librosa')"
   ]
  },
  {
   "cell_type": "markdown",
   "metadata": {},
   "source": [
    "## Display"
   ]
  },
  {
   "cell_type": "code",
   "execution_count": null,
   "metadata": {},
   "outputs": [],
   "source": [
    "# export\n",
    "def display_image_tensor(x, figsize=None, savename=None):\n",
    "    xn = x.numpy() if len(x.shape)==3 else x.numpy()[0] # handles single-item batches and item-only tensors\n",
    "    xn = np.moveaxis(xn, 0, 2)\n",
    "    xn = xn + abs(xn.min()) if xn.min() < 0.0 else xn\n",
    "    xn /= xn.max()\n",
    "    if figsize: plt.figure(figsize=(figsize))\n",
    "    plt.imshow(xn)\n",
    "    if savename != None: plt.imsave(savename, xn)\n",
    "    return xn\n",
    "\n",
    "def display_detection_window_waveform(rec_id,csv_fpath,audio_path,codec='flac',figsize=(20,10)):\n",
    "    # load\n",
    "    wf,sr = librosa.load(audio_path/f'{rec_id}.{codec}', sr=None)\n",
    "    csv_file = pd.read_csv(csv_fpath)\n",
    "    t_min,t_max = csv_file.loc[csv_file['recording_id']==rec_id].loc[:,['t_min','t_max']].values[0]\n",
    "    # full waveform\n",
    "    plt.figure(figsize=figsize)\n",
    "    plt.axvline(x=int(sr*t_min), color='r'); plt.axvline(x=int(sr*t_max), color='r')\n",
    "    plt.title(f'{audio_path.name} waveform')\n",
    "    plt.plot(wf)\n",
    "    # zoomed waveform\n",
    "    plt.figure(figsize=(20,10))\n",
    "    plt.title(f'{audio_path.name} detection')\n",
    "    plt.plot(wf[int(sr*t_min):int(sr*t_max)], linewidth=0.5)"
   ]
  },
  {
   "cell_type": "markdown",
   "metadata": {},
   "source": [
    "## Dataframe Operations"
   ]
  },
  {
   "cell_type": "code",
   "execution_count": null,
   "metadata": {},
   "outputs": [],
   "source": [
    "# export\n",
    "# export\n",
    "def df_subset_rows(df, column_str, checklist):\n",
    "    \"\"\"\n",
    "    Returns a copied subset of a dataframe with rows where `column_str` matches items in `checklist`.\n",
    "    \"\"\"\n",
    "    dfsubset = pd.DataFrame(columns=df.columns)\n",
    "    for check in checklist: dfsubset = dfsubset.append(df.loc[df[column_str]==check], ignore_index=True)\n",
    "    return dfsubset\n",
    "\n",
    "\n",
    "def get_annotation_length(csv_file, rec_id):\n",
    "    t_min,t_max = csv_file.loc[csv_file['recording_id']==rec_id].loc[:,['t_min','t_max']].values[0]\n",
    "    return t_max - t_min\n",
    "\n",
    "\n",
    "def find_longest_annotations(csv_file, n=1):\n",
    "    \"\"\"\n",
    "    Find length and row-index of the N longest annotation windows.\n",
    "    \"\"\"\n",
    "    l_dict = {}\n",
    "    for rdx in range(len(csv_file)):\n",
    "        t_min,t_max = csv_file.iloc[rdx].loc[['t_min','t_max']]\n",
    "        l = t_max - t_min\n",
    "        l_dict[rdx] = l\n",
    "    return sorted(list(l_dict.items()), key=lambda x: x[1], reverse=True)[:n]"
   ]
  },
  {
   "cell_type": "markdown",
   "metadata": {},
   "source": [
    "## notebook export"
   ]
  },
  {
   "cell_type": "code",
   "execution_count": null,
   "metadata": {},
   "outputs": [
    {
     "name": "stdout",
     "output_type": "stream",
     "text": [
      "Converted 00_utils.ipynb.\nConverted 01_spectrogram_processor.ipynb.\nConverted basic classifier.ipynb.\nConverted experiments - nbdev.ipynb.\nConverted experiments - spectrogram compression and timing statistics.ipynb.\nConverted experiments - waveform analysis.ipynb.\nConverted index.ipynb.\n"
     ]
    }
   ],
   "source": [
    "from nbdev.export import notebook2script; notebook2script()"
   ]
  },
  {
   "cell_type": "code",
   "execution_count": null,
   "metadata": {},
   "outputs": [],
   "source": []
  }
 ],
 "metadata": {
  "kernelspec": {
   "display_name": "Python 3.8.5 64-bit ('audio': conda)",
   "metadata": {
    "interpreter": {
     "hash": "d4daf88e46b83a6beadeeecd4611e001de4abe8fe0784dd9f689a3588348bbd2"
    }
   },
   "name": "python3"
  }
 },
 "nbformat": 4,
 "nbformat_minor": 4
}
