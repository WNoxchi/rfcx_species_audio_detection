{
 "cells": [
  {
   "cell_type": "markdown",
   "metadata": {},
   "source": [
    "# API Name\n",
    "\n",
    "> API details."
   ]
  },
  {
   "cell_type": "code",
   "execution_count": null,
   "metadata": {},
   "outputs": [],
   "source": [
    "#hide\n",
    "from nbdev.showdoc import *"
   ]
  },
  {
   "cell_type": "code",
   "execution_count": null,
   "metadata": {},
   "outputs": [],
   "source": [
    "#hide\n",
    "%matplotlib inline"
   ]
  },
  {
   "cell_type": "code",
   "execution_count": null,
   "metadata": {},
   "outputs": [],
   "source": [
    "\n",
    "import numpy as np\n",
    "import librosa"
   ]
  },
  {
   "cell_type": "code",
   "execution_count": null,
   "metadata": {},
   "outputs": [],
   "source": [
    "import torch\n",
    "from pathlib import Path"
   ]
  },
  {
   "cell_type": "markdown",
   "metadata": {},
   "source": [
    "## Spectrograms"
   ]
  },
  {
   "cell_type": "code",
   "execution_count": null,
   "metadata": {},
   "outputs": [],
   "source": [
    "n_fft = 2048\n",
    "hop_length = 512\n",
    "n_mels= 128"
   ]
  },
  {
   "cell_type": "code",
   "execution_count": null,
   "metadata": {},
   "outputs": [],
   "source": [
    "datapath = Path('temp/')"
   ]
  },
  {
   "cell_type": "markdown",
   "metadata": {},
   "source": [
    "### compute spectrogram"
   ]
  },
  {
   "cell_type": "code",
   "execution_count": null,
   "metadata": {},
   "outputs": [],
   "source": [
    "# ignore librosa pysoundfile load warning\n",
    "import warnings\n",
    "warnings.filterwarnings(\n",
    "    action='ignore',\n",
    "    category=UserWarning,\n",
    "    module=r'librosa'\n",
    ")"
   ]
  },
  {
   "cell_type": "code",
   "execution_count": null,
   "metadata": {},
   "outputs": [],
   "source": [
    "audio_file = datapath/'00204008d.flac'\n",
    "wf,sr = librosa.load(audio_file, sr=None)\n",
    "# spectrogram\n",
    "stft = librosa.stft(wf, n_fft=n_fft, hop_length=hop_length)\n",
    "spgm_pwr = np.abs(stft)**2\n",
    "spgm_log = librosa.power_to_db(spgm_pwr)\n",
    "# mel spectrogram\n",
    "spgm_mel_pwr = librosa.feature.melspectrogram(wf, sr=sr, n_fft=n_fft, hop_length=hop_length, n_mels=n_mels)\n",
    "spgm_mel_log = librosa.power_to_db(spgm_mel_pwr)"
   ]
  },
  {
   "cell_type": "code",
   "execution_count": null,
   "metadata": {},
   "outputs": [],
   "source": [
    "\n",
    "def compute_spectrogram(wf, n_fft, hop_length):\n",
    "    return librosa.power_to_db(np.abs(librosa.stft(wf, n_fft=n_fft, hop_length=hop_length))**2)\n",
    "    \n",
    "def compute_mel_spectrogram(wf, sr, n_fft, hop_length, n_mels):\n",
    "    return librosa.power_to_db(librosa.feature.melspectrogram(wf, sr=sr, n_fft=n_fft, hop_length=hop_length, n_mels=n_mels))\n",
    "    "
   ]
  },
  {
   "cell_type": "code",
   "execution_count": null,
   "metadata": {},
   "outputs": [],
   "source": []
  },
  {
   "cell_type": "code",
   "execution_count": null,
   "metadata": {},
   "outputs": [],
   "source": []
  },
  {
   "cell_type": "code",
   "execution_count": null,
   "metadata": {},
   "outputs": [],
   "source": [
    "statspath = Path('statistics')\n",
    "datapath = Path('sample_data')\n",
    "datapath_train = Path('sample_data/train/')\n",
    "datapath_spgm = Path('sample_data/spectrograms')\n",
    "datapath_spgm_mel = Path('sample_data/melspectrograms')\n",
    "datapath_spgm.mkdir(exist_ok=True)\n",
    "datapath_spgm_mel.mkdir(exist_ok=True)"
   ]
  },
  {
   "cell_type": "code",
   "execution_count": null,
   "metadata": {},
   "outputs": [],
   "source": [
    "%%time\n",
    "for audio_file in datapath_train.iterdir():\n",
    "    # check\n",
    "    if audio_file.suffix != '.flac': continue\n",
    "    # load\n",
    "    wf,sr = librosa.load(audio_file)\n",
    "    # compute\n",
    "    spgm = compute_spectrogram(wf=wf, n_fft=n_fft, hop_length=hop_length)\n",
    "    spgm_mel = compute_mel_spectrogram(wf=wf, sr=sr, n_fft=n_fft, hop_length=hop_length, n_mels=n_mels)\n",
    "    # write\n",
    "    np.save(datapath_spgm/f'{audio_file.stem}', spgm)\n",
    "    np.save(datapath_spgm_mel/f'{audio_file.stem}', spgm_mel)"
   ]
  },
  {
   "cell_type": "markdown",
   "metadata": {},
   "source": [
    "## pure pytorch"
   ]
  },
  {
   "cell_type": "code",
   "execution_count": null,
   "metadata": {},
   "outputs": [],
   "source": [
    "# import torchaudio"
   ]
  },
  {
   "cell_type": "code",
   "execution_count": null,
   "metadata": {},
   "outputs": [],
   "source": [
    "# # pytorch STFT\n",
    "# wf,sr = torchaudio.load(audio_file)\n",
    "# stft = torch.stft(wf, \n",
    "#                   n_fft          = n_fft, \n",
    "#                   hop_length     = hop_length, \n",
    "#                   window         = torch.hann_window(n_fft), \n",
    "#                   return_complex = True, \n",
    "#                   center         = True)\n",
    "\n",
    "# spgm_pwr = torch.abs(stft)**2\n",
    "# spgm_log = librosa.power_to_db"
   ]
  },
  {
   "cell_type": "markdown",
   "metadata": {},
   "source": [
    "## notebook export"
   ]
  },
  {
   "cell_type": "code",
   "execution_count": null,
   "metadata": {},
   "outputs": [
    {
     "name": "stdout",
     "output_type": "stream",
     "text": [
      "Converted 00_core.ipynb.\nConverted 01_spectrogram_processor.ipynb.\nConverted basic classifier.ipynb.\nConverted experiments - spectrogram compression and timing statistics.ipynb.\nConverted experiments - waveform analysis.ipynb.\nConverted index.ipynb.\n"
     ]
    }
   ],
   "source": [
    "from nbdev.export import notebook2script; notebook2script()"
   ]
  },
  {
   "cell_type": "code",
   "execution_count": null,
   "metadata": {},
   "outputs": [],
   "source": []
  }
 ],
 "metadata": {
  "kernelspec": {
   "display_name": "Python 3.8.5 64-bit ('audio': conda)",
   "metadata": {
    "interpreter": {
     "hash": "d4daf88e46b83a6beadeeecd4611e001de4abe8fe0784dd9f689a3588348bbd2"
    }
   },
   "name": "python3"
  }
 },
 "nbformat": 4,
 "nbformat_minor": 4
}
