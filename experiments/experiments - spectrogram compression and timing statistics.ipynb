{
 "cells": [
  {
   "cell_type": "code",
   "execution_count": null,
   "metadata": {},
   "outputs": [],
   "source": [
    "# default_exp utils"
   ]
  },
  {
   "cell_type": "markdown",
   "metadata": {},
   "source": [
    "# spectrogram compression statistics\n",
    "\n",
    "> API details."
   ]
  },
  {
   "cell_type": "code",
   "execution_count": null,
   "metadata": {},
   "outputs": [],
   "source": [
    "#hide\n",
    "from nbdev.showdoc import *"
   ]
  },
  {
   "cell_type": "code",
   "execution_count": null,
   "metadata": {},
   "outputs": [],
   "source": [
    "#hide\n",
    "%matplotlib inline"
   ]
  },
  {
   "cell_type": "markdown",
   "metadata": {},
   "source": [
    "## Spectrograms"
   ]
  },
  {
   "cell_type": "code",
   "execution_count": null,
   "metadata": {},
   "outputs": [],
   "source": [
    "import librosa\n",
    "import torch\n",
    "from pathlib import Path\n",
    "import numpy as np\n",
    "\n",
    "import librosa.display\n",
    "import os\n",
    "import h5py\n",
    "from fastprogress import progress_bar as pb, master_bar\n",
    "import time\n",
    "\n",
    "import pandas as pd"
   ]
  },
  {
   "cell_type": "code",
   "execution_count": null,
   "metadata": {},
   "outputs": [],
   "source": [
    "n_fft = 2048\n",
    "hop_length = 512\n",
    "n_mels= 128"
   ]
  },
  {
   "cell_type": "code",
   "execution_count": null,
   "metadata": {},
   "outputs": [],
   "source": [
    "datapath = Path('temp/')"
   ]
  },
  {
   "cell_type": "markdown",
   "metadata": {},
   "source": [
    "### compute spectrogram"
   ]
  },
  {
   "cell_type": "code",
   "execution_count": null,
   "metadata": {},
   "outputs": [],
   "source": [
    "# ignore librosa pysoundfile load warning\n",
    "import warnings\n",
    "warnings.filterwarnings(\n",
    "    action='ignore',\n",
    "    category=UserWarning,\n",
    "    module=r'librosa'\n",
    ")"
   ]
  },
  {
   "cell_type": "code",
   "execution_count": null,
   "metadata": {},
   "outputs": [],
   "source": [
    "audio_file = datapath/'00204008d.flac'\n",
    "wf,sr = librosa.load(audio_file, sr=None)\n",
    "# spectrogram\n",
    "stft = librosa.stft(wf, n_fft=n_fft, hop_length=hop_length)\n",
    "spgm_pwr = np.abs(stft)**2\n",
    "spgm_log = librosa.power_to_db(spgm_pwr)\n",
    "# mel spectrogram\n",
    "spgm_mel_pwr = librosa.feature.melspectrogram(wf, sr=sr, n_fft=n_fft, hop_length=hop_length, n_mels=n_mels)\n",
    "spgm_mel_log = librosa.power_to_db(spgm_mel_pwr)"
   ]
  },
  {
   "cell_type": "code",
   "execution_count": null,
   "metadata": {},
   "outputs": [],
   "source": [
    "def compute_spectrogram(wf, n_fft, hop_length):\n",
    "    return librosa.power_to_db(np.abs(librosa.stft(wf, n_fft=n_fft, hop_length=hop_length))**2)\n",
    "    \n",
    "def compute_mel_spectrogram(wf, sr, n_fft, hop_length, n_mels):\n",
    "    return librosa.power_to_db(librosa.feature.melspectrogram(wf, sr=sr, n_fft=n_fft, hop_length=hop_length, n_mels=n_mels))\n",
    "    "
   ]
  },
  {
   "cell_type": "code",
   "execution_count": null,
   "metadata": {},
   "outputs": [],
   "source": [
    "statspath = Path('statistics')\n",
    "datapath = Path('sample_data')\n",
    "datapath_train = Path('sample_data/train/')\n",
    "datapath_spgm = Path('sample_data/spectrograms')\n",
    "datapath_spgm_mel = Path('sample_data/melspectrograms')\n",
    "datapath_spgm.mkdir(exist_ok=True)\n",
    "datapath_spgm_mel.mkdir(exist_ok=True)"
   ]
  },
  {
   "cell_type": "code",
   "execution_count": null,
   "metadata": {},
   "outputs": [],
   "source": [
    "def spectrogram_time_stats(outpath, loadpath, n_fft, hop_length, n_mels, compression=None, compression_opts=None, print_stats=False, n_files=None, master_bar=None):\n",
    "    # setup\n",
    "    datapath_train = loadpath\n",
    "    datapath_spgm = outpath/'spectrograms'\n",
    "    datapath_spgm_mel = outpath/'melspectrograms'\n",
    "    [os.remove(path/'data.hdf5') for path in (datapath_spgm, datapath_spgm_mel) if (path/'data.hdf5').exists()]\n",
    "    writes = 0\n",
    "    times = {'compute':[],'write':[]}\n",
    "    compression_paras = {'compression':compression,'compression_opts':compression_opts}\n",
    "    \n",
    "    # load-compute-write\n",
    "    for audio_file in pb(list(datapath_train.iterdir())[:n_files], parent=master_bar):\n",
    "        # check\n",
    "        t0 = time.time()\n",
    "        if audio_file.suffix != '.flac': continue\n",
    "        writes += 1\n",
    "        # load\n",
    "        wf,sr = librosa.load(audio_file)\n",
    "        # compute\n",
    "        spgm = compute_spectrogram(wf=wf, n_fft=n_fft, hop_length=hop_length)\n",
    "        spgm_mel = compute_mel_spectrogram(wf=wf, sr=sr, n_fft=n_fft, hop_length=hop_length, n_mels=n_mels)\n",
    "        times['compute'].append(time.time() - t0)\n",
    "        # write\n",
    "        t0 = time.time()\n",
    "        with h5py.File(datapath_spgm/'data.hdf5', 'a') as hdf:\n",
    "            hdf.create_dataset(f'{audio_file.stem}', data=spgm, **compression_paras)\n",
    "        with h5py.File(datapath_spgm_mel/'data.hdf5', 'a') as hdf:\n",
    "            hdf.create_dataset(f'{audio_file.stem}', data=spgm_mel, **compression_paras)\n",
    "        times['write'].append(time.time() - t0)\n",
    "\n",
    "    # statistics\n",
    "    if print_stats:\n",
    "        print(f\"compression: {compression}; options: {compression_opts}\")\n",
    "        print('writes:', writes)\n",
    "        for k,v in times.items(): print(k, np.array(v).mean().round(3), 's')\n",
    "        for path,array in ((datapath_spgm,spgm), (datapath_spgm_mel,spgm_mel)):\n",
    "            size = os.path.getsize(path/'data.hdf5')\n",
    "            print(f\"size {path.stem} : {round(size/1e6, 3)} MB\")\n",
    "            print(f\"byte/pixel ratio: {round(size/(array.size * writes), 3)}\")  \n",
    "    size_spgm = os.path.getsize(datapath_spgm/'data.hdf5')\n",
    "    size_spgm_mel = os.path.getsize(datapath_spgm_mel/'data.hdf5')\n",
    "    stats = {\n",
    "        'compression type':compression,\n",
    "        'compression option': compression_opts,\n",
    "        'audios':writes,\n",
    "        'avg compute time [s]':np.array(times['compute']).mean(),\n",
    "        'avg write time [s]': np.array(times['write']).mean(),\n",
    "        'size spectrogram [MB]': size_spgm/1e6,\n",
    "        'size mel spectgm [MB]': size_spgm_mel/1e6,\n",
    "        'B/px ratio spctgm': size_spgm / spgm.size / writes,\n",
    "        'B/px ratio mel spctgm': size_spgm_mel / spgm_mel.size / writes\n",
    "    }\n",
    "    return stats"
   ]
  },
  {
   "cell_type": "code",
   "execution_count": null,
   "metadata": {},
   "outputs": [],
   "source": [
    "file_paras = {'outpath':datapath,\n",
    "              'loadpath': datapath_train,\n",
    "              'n_files': 10}\n",
    "spectrogram_paras = {'n_fft':n_fft, \n",
    "                     'hop_length':hop_length, \n",
    "                     'n_mels':n_mels,}\n",
    "compression_schemes = [{'compression':None,'compression_opts':None},\n",
    "                       {'compression':'lzf','compression_opts':None},\n",
    "                       {'compression':'gzip','compression_opts':9},\n",
    "                       {'compression':'gzip','compression_opts':4},\n",
    "                       {'compression':'gzip','compression_opts':0},]"
   ]
  },
  {
   "cell_type": "code",
   "execution_count": null,
   "metadata": {},
   "outputs": [
    {
     "data": {
      "text/plain": [
       "{'audios': 8,\n",
       " 'avg compute time [s]': 2.9452082812786102,\n",
       " 'avg write time [s]': 0.02203020453453064,\n",
       " 'compression type': None,\n",
       " 'compression option': None,\n",
       " 'size spectrogram [B]': 84771584,\n",
       " 'size mel spectgm [B]': 10600448,\n",
       " 'B/px ratio spctgm': 4.0007732386921395,\n",
       " 'B/px ratio mel spctgm': 4.006191950464396}"
      ]
     },
     "execution_count": null,
     "metadata": {},
     "output_type": "execute_result"
    }
   ],
   "source": [
    "stats"
   ]
  },
  {
   "cell_type": "code",
   "execution_count": null,
   "metadata": {},
   "outputs": [
    {
     "data": {
      "text/html": [],
      "text/plain": [
       "<IPython.core.display.HTML object>"
      ]
     },
     "metadata": {},
     "output_type": "display_data"
    },
    {
     "name": "stdout",
     "output_type": "stream",
     "text": [
      "CPU times: user 1min 57s, sys: 3.69 s, total: 2min 1s\n",
      "Wall time: 2min 6s\n"
     ]
    }
   ],
   "source": [
    "%%time\n",
    "df = pd.DataFrame()\n",
    "mb = master_bar(compression_schemes)\n",
    "for compression_scheme in mb:\n",
    "    stats = spectrogram_time_stats(**file_paras, **spectrogram_paras, **compression_scheme, master_bar=mb)\n",
    "    stats = {k:[v] for k,v in stats.items()}\n",
    "    df = pd.concat([df, pd.DataFrame.from_dict(stats)], ignore_index=True)"
   ]
  },
  {
   "cell_type": "code",
   "execution_count": null,
   "metadata": {},
   "outputs": [
    {
     "data": {
      "text/html": [
       "<div>\n",
       "<style scoped>\n",
       "    .dataframe tbody tr th:only-of-type {\n",
       "        vertical-align: middle;\n",
       "    }\n",
       "\n",
       "    .dataframe tbody tr th {\n",
       "        vertical-align: top;\n",
       "    }\n",
       "\n",
       "    .dataframe thead th {\n",
       "        text-align: right;\n",
       "    }\n",
       "</style>\n",
       "<table border=\"1\" class=\"dataframe\">\n",
       "  <thead>\n",
       "    <tr style=\"text-align: right;\">\n",
       "      <th></th>\n",
       "      <th>compression type</th>\n",
       "      <th>compression option</th>\n",
       "      <th>audios</th>\n",
       "      <th>avg compute time [s]</th>\n",
       "      <th>avg write time [s]</th>\n",
       "      <th>size spectrogram [MB]</th>\n",
       "      <th>size mel spectgm [MB]</th>\n",
       "      <th>B/px ratio spctgm</th>\n",
       "      <th>B/px ratio mel spctgm</th>\n",
       "    </tr>\n",
       "  </thead>\n",
       "  <tbody>\n",
       "    <tr>\n",
       "      <th>0</th>\n",
       "      <td>None</td>\n",
       "      <td>None</td>\n",
       "      <td>8</td>\n",
       "      <td>2.938427</td>\n",
       "      <td>0.023523</td>\n",
       "      <td>84.771584</td>\n",
       "      <td>10.600448</td>\n",
       "      <td>4.000773</td>\n",
       "      <td>4.006192</td>\n",
       "    </tr>\n",
       "    <tr>\n",
       "      <th>1</th>\n",
       "      <td>lzf</td>\n",
       "      <td>None</td>\n",
       "      <td>8</td>\n",
       "      <td>2.917015</td>\n",
       "      <td>0.109410</td>\n",
       "      <td>81.974545</td>\n",
       "      <td>10.592330</td>\n",
       "      <td>3.868768</td>\n",
       "      <td>4.003124</td>\n",
       "    </tr>\n",
       "    <tr>\n",
       "      <th>2</th>\n",
       "      <td>gzip</td>\n",
       "      <td>9</td>\n",
       "      <td>8</td>\n",
       "      <td>2.926670</td>\n",
       "      <td>0.520495</td>\n",
       "      <td>71.355023</td>\n",
       "      <td>9.113995</td>\n",
       "      <td>3.367582</td>\n",
       "      <td>3.444422</td>\n",
       "    </tr>\n",
       "    <tr>\n",
       "      <th>3</th>\n",
       "      <td>gzip</td>\n",
       "      <td>4</td>\n",
       "      <td>8</td>\n",
       "      <td>2.927158</td>\n",
       "      <td>0.463423</td>\n",
       "      <td>71.386690</td>\n",
       "      <td>9.114067</td>\n",
       "      <td>3.369077</td>\n",
       "      <td>3.444449</td>\n",
       "    </tr>\n",
       "    <tr>\n",
       "      <th>4</th>\n",
       "      <td>gzip</td>\n",
       "      <td>0</td>\n",
       "      <td>8</td>\n",
       "      <td>2.927926</td>\n",
       "      <td>0.049601</td>\n",
       "      <td>86.416928</td>\n",
       "      <td>10.617696</td>\n",
       "      <td>4.078425</td>\n",
       "      <td>4.012710</td>\n",
       "    </tr>\n",
       "  </tbody>\n",
       "</table>\n",
       "</div>"
      ],
      "text/plain": [
       "  compression type compression option  audios  avg compute time [s]  \\\n",
       "0             None               None       8              2.938427   \n",
       "1              lzf               None       8              2.917015   \n",
       "2             gzip                  9       8              2.926670   \n",
       "3             gzip                  4       8              2.927158   \n",
       "4             gzip                  0       8              2.927926   \n",
       "\n",
       "   avg write time [s]  size spectrogram [MB]  size mel spectgm [MB]  \\\n",
       "0            0.023523              84.771584              10.600448   \n",
       "1            0.109410              81.974545              10.592330   \n",
       "2            0.520495              71.355023               9.113995   \n",
       "3            0.463423              71.386690               9.114067   \n",
       "4            0.049601              86.416928              10.617696   \n",
       "\n",
       "   B/px ratio spctgm  B/px ratio mel spctgm  \n",
       "0           4.000773               4.006192  \n",
       "1           3.868768               4.003124  \n",
       "2           3.367582               3.444422  \n",
       "3           3.369077               3.444449  \n",
       "4           4.078425               4.012710  "
      ]
     },
     "execution_count": null,
     "metadata": {},
     "output_type": "execute_result"
    }
   ],
   "source": [
    "df"
   ]
  },
  {
   "cell_type": "code",
   "execution_count": null,
   "metadata": {},
   "outputs": [],
   "source": [
    "df.to_csv(statspath/'sample_hdf5_compressions.csv', index=False)"
   ]
  },
  {
   "cell_type": "code",
   "execution_count": null,
   "metadata": {},
   "outputs": [],
   "source": []
  },
  {
   "cell_type": "code",
   "execution_count": null,
   "metadata": {},
   "outputs": [],
   "source": []
  },
  {
   "cell_type": "code",
   "execution_count": null,
   "metadata": {},
   "outputs": [],
   "source": []
  },
  {
   "cell_type": "code",
   "execution_count": null,
   "metadata": {},
   "outputs": [],
   "source": []
  },
  {
   "cell_type": "code",
   "execution_count": null,
   "metadata": {},
   "outputs": [],
   "source": []
  },
  {
   "cell_type": "code",
   "execution_count": null,
   "metadata": {},
   "outputs": [],
   "source": []
  },
  {
   "cell_type": "code",
   "execution_count": null,
   "metadata": {},
   "outputs": [],
   "source": []
  },
  {
   "cell_type": "code",
   "execution_count": null,
   "metadata": {},
   "outputs": [
    {
     "name": "stderr",
     "output_type": "stream",
     "text": [
      "/Users/WPolatkan/Miniconda3/envs/audio/lib/python3.8/site-packages/librosa/core/audio.py:162: UserWarning: PySoundFile failed. Trying audioread instead.\n",
      "  warnings.warn(\"PySoundFile failed. Trying audioread instead.\")\n",
      "/Users/WPolatkan/Miniconda3/envs/audio/lib/python3.8/site-packages/librosa/core/audio.py:162: UserWarning: PySoundFile failed. Trying audioread instead.\n",
      "  warnings.warn(\"PySoundFile failed. Trying audioread instead.\")\n",
      "/Users/WPolatkan/Miniconda3/envs/audio/lib/python3.8/site-packages/librosa/core/audio.py:162: UserWarning: PySoundFile failed. Trying audioread instead.\n",
      "  warnings.warn(\"PySoundFile failed. Trying audioread instead.\")\n",
      "/Users/WPolatkan/Miniconda3/envs/audio/lib/python3.8/site-packages/librosa/core/audio.py:162: UserWarning: PySoundFile failed. Trying audioread instead.\n",
      "  warnings.warn(\"PySoundFile failed. Trying audioread instead.\")\n",
      "/Users/WPolatkan/Miniconda3/envs/audio/lib/python3.8/site-packages/librosa/core/audio.py:162: UserWarning: PySoundFile failed. Trying audioread instead.\n",
      "  warnings.warn(\"PySoundFile failed. Trying audioread instead.\")\n",
      "/Users/WPolatkan/Miniconda3/envs/audio/lib/python3.8/site-packages/librosa/core/audio.py:162: UserWarning: PySoundFile failed. Trying audioread instead.\n",
      "  warnings.warn(\"PySoundFile failed. Trying audioread instead.\")\n",
      "/Users/WPolatkan/Miniconda3/envs/audio/lib/python3.8/site-packages/librosa/core/audio.py:162: UserWarning: PySoundFile failed. Trying audioread instead.\n",
      "  warnings.warn(\"PySoundFile failed. Trying audioread instead.\")\n",
      "/Users/WPolatkan/Miniconda3/envs/audio/lib/python3.8/site-packages/librosa/core/audio.py:162: UserWarning: PySoundFile failed. Trying audioread instead.\n",
      "  warnings.warn(\"PySoundFile failed. Trying audioread instead.\")\n",
      "/Users/WPolatkan/Miniconda3/envs/audio/lib/python3.8/site-packages/librosa/core/audio.py:162: UserWarning: PySoundFile failed. Trying audioread instead.\n",
      "  warnings.warn(\"PySoundFile failed. Trying audioread instead.\")\n",
      "/Users/WPolatkan/Miniconda3/envs/audio/lib/python3.8/site-packages/librosa/core/audio.py:162: UserWarning: PySoundFile failed. Trying audioread instead.\n",
      "  warnings.warn(\"PySoundFile failed. Trying audioread instead.\")\n",
      "/Users/WPolatkan/Miniconda3/envs/audio/lib/python3.8/site-packages/librosa/core/audio.py:162: UserWarning: PySoundFile failed. Trying audioread instead.\n",
      "  warnings.warn(\"PySoundFile failed. Trying audioread instead.\")\n",
      "/Users/WPolatkan/Miniconda3/envs/audio/lib/python3.8/site-packages/librosa/core/audio.py:162: UserWarning: PySoundFile failed. Trying audioread instead.\n",
      "  warnings.warn(\"PySoundFile failed. Trying audioread instead.\")\n",
      "/Users/WPolatkan/Miniconda3/envs/audio/lib/python3.8/site-packages/librosa/core/audio.py:162: UserWarning: PySoundFile failed. Trying audioread instead.\n",
      "  warnings.warn(\"PySoundFile failed. Trying audioread instead.\")\n",
      "/Users/WPolatkan/Miniconda3/envs/audio/lib/python3.8/site-packages/librosa/core/audio.py:162: UserWarning: PySoundFile failed. Trying audioread instead.\n",
      "  warnings.warn(\"PySoundFile failed. Trying audioread instead.\")\n",
      "/Users/WPolatkan/Miniconda3/envs/audio/lib/python3.8/site-packages/librosa/core/audio.py:162: UserWarning: PySoundFile failed. Trying audioread instead.\n",
      "  warnings.warn(\"PySoundFile failed. Trying audioread instead.\")\n",
      "/Users/WPolatkan/Miniconda3/envs/audio/lib/python3.8/site-packages/librosa/core/audio.py:162: UserWarning: PySoundFile failed. Trying audioread instead.\n",
      "  warnings.warn(\"PySoundFile failed. Trying audioread instead.\")\n",
      "/Users/WPolatkan/Miniconda3/envs/audio/lib/python3.8/site-packages/librosa/core/audio.py:162: UserWarning: PySoundFile failed. Trying audioread instead.\n",
      "  warnings.warn(\"PySoundFile failed. Trying audioread instead.\")\n",
      "/Users/WPolatkan/Miniconda3/envs/audio/lib/python3.8/site-packages/librosa/core/audio.py:162: UserWarning: PySoundFile failed. Trying audioread instead.\n",
      "  warnings.warn(\"PySoundFile failed. Trying audioread instead.\")\n",
      "/Users/WPolatkan/Miniconda3/envs/audio/lib/python3.8/site-packages/librosa/core/audio.py:162: UserWarning: PySoundFile failed. Trying audioread instead.\n",
      "  warnings.warn(\"PySoundFile failed. Trying audioread instead.\")\n",
      "/Users/WPolatkan/Miniconda3/envs/audio/lib/python3.8/site-packages/librosa/core/audio.py:162: UserWarning: PySoundFile failed. Trying audioread instead.\n",
      "  warnings.warn(\"PySoundFile failed. Trying audioread instead.\")\n",
      "/Users/WPolatkan/Miniconda3/envs/audio/lib/python3.8/site-packages/librosa/core/audio.py:162: UserWarning: PySoundFile failed. Trying audioread instead.\n",
      "  warnings.warn(\"PySoundFile failed. Trying audioread instead.\")\n",
      "/Users/WPolatkan/Miniconda3/envs/audio/lib/python3.8/site-packages/librosa/core/audio.py:162: UserWarning: PySoundFile failed. Trying audioread instead.\n",
      "  warnings.warn(\"PySoundFile failed. Trying audioread instead.\")\n",
      "/Users/WPolatkan/Miniconda3/envs/audio/lib/python3.8/site-packages/librosa/core/audio.py:162: UserWarning: PySoundFile failed. Trying audioread instead.\n",
      "  warnings.warn(\"PySoundFile failed. Trying audioread instead.\")\n",
      "/Users/WPolatkan/Miniconda3/envs/audio/lib/python3.8/site-packages/librosa/core/audio.py:162: UserWarning: PySoundFile failed. Trying audioread instead.\n",
      "  warnings.warn(\"PySoundFile failed. Trying audioread instead.\")\n",
      "/Users/WPolatkan/Miniconda3/envs/audio/lib/python3.8/site-packages/librosa/core/audio.py:162: UserWarning: PySoundFile failed. Trying audioread instead.\n",
      "  warnings.warn(\"PySoundFile failed. Trying audioread instead.\")\n",
      "/Users/WPolatkan/Miniconda3/envs/audio/lib/python3.8/site-packages/librosa/core/audio.py:162: UserWarning: PySoundFile failed. Trying audioread instead.\n",
      "  warnings.warn(\"PySoundFile failed. Trying audioread instead.\")\n",
      "/Users/WPolatkan/Miniconda3/envs/audio/lib/python3.8/site-packages/librosa/core/audio.py:162: UserWarning: PySoundFile failed. Trying audioread instead.\n",
      "  warnings.warn(\"PySoundFile failed. Trying audioread instead.\")\n",
      "/Users/WPolatkan/Miniconda3/envs/audio/lib/python3.8/site-packages/librosa/core/audio.py:162: UserWarning: PySoundFile failed. Trying audioread instead.\n",
      "  warnings.warn(\"PySoundFile failed. Trying audioread instead.\")\n",
      "/Users/WPolatkan/Miniconda3/envs/audio/lib/python3.8/site-packages/librosa/core/audio.py:162: UserWarning: PySoundFile failed. Trying audioread instead.\n",
      "  warnings.warn(\"PySoundFile failed. Trying audioread instead.\")\n",
      "/Users/WPolatkan/Miniconda3/envs/audio/lib/python3.8/site-packages/librosa/core/audio.py:162: UserWarning: PySoundFile failed. Trying audioread instead.\n",
      "  warnings.warn(\"PySoundFile failed. Trying audioread instead.\")\n"
     ]
    },
    {
     "name": "stdout",
     "output_type": "stream",
     "text": [
      "CPU times: user 1min 25s, sys: 3.62 s, total: 1min 28s\n",
      "Wall time: 1min 36s\n"
     ]
    }
   ],
   "source": [
    "%%time\n",
    "for audio_file in datapath_train.iterdir():\n",
    "    # check\n",
    "    if audio_file.suffix != '.flac': continue\n",
    "    # load\n",
    "    wf,sr = librosa.load(audio_file)\n",
    "    # compute\n",
    "    spgm = compute_spectrogram(wf=wf, n_fft=n_fft, hop_length=hop_length)\n",
    "    spgm_mel = compute_mel_spectrogram(wf=wf, sr=sr, n_fft=n_fft, hop_length=hop_length, n_mels=n_mels)\n",
    "    # write\n",
    "    np.save(datapath_spgm/f'{audio_file.stem}', spgm)\n",
    "    np.save(datapath_spgm_mel/f'{audio_file.stem}', spgm_mel)"
   ]
  },
  {
   "cell_type": "code",
   "execution_count": null,
   "metadata": {},
   "outputs": [],
   "source": []
  },
  {
   "cell_type": "code",
   "execution_count": null,
   "metadata": {},
   "outputs": [],
   "source": []
  },
  {
   "cell_type": "markdown",
   "metadata": {},
   "source": [
    "## pure pytorch"
   ]
  },
  {
   "cell_type": "code",
   "execution_count": null,
   "metadata": {},
   "outputs": [],
   "source": [
    "# import torchaudio"
   ]
  },
  {
   "cell_type": "code",
   "execution_count": null,
   "metadata": {},
   "outputs": [],
   "source": [
    "# # pytorch STFT\n",
    "# wf,sr = torchaudio.load(audio_file)\n",
    "# stft = torch.stft(wf, \n",
    "#                   n_fft          = n_fft, \n",
    "#                   hop_length     = hop_length, \n",
    "#                   window         = torch.hann_window(n_fft), \n",
    "#                   return_complex = True, \n",
    "#                   center         = True)\n",
    "\n",
    "# spgm_pwr = torch.abs(stft)**2\n",
    "# spgm_log = librosa.power_to_db"
   ]
  },
  {
   "cell_type": "markdown",
   "metadata": {},
   "source": [
    "## notebook export"
   ]
  },
  {
   "cell_type": "code",
   "execution_count": null,
   "metadata": {},
   "outputs": [
    {
     "name": "stdout",
     "output_type": "stream",
     "text": [
      "Converted 00_utilities.ipynb.\n",
      "Converted index.ipynb.\n"
     ]
    }
   ],
   "source": [
    "from nbdev.export import notebook2script; notebook2script()"
   ]
  },
  {
   "cell_type": "code",
   "execution_count": null,
   "metadata": {},
   "outputs": [],
   "source": []
  }
 ],
 "metadata": {
  "kernelspec": {
   "display_name": "Python [conda env:audio] *",
   "language": "python",
   "name": "conda-env-audio-py"
  }
 },
 "nbformat": 4,
 "nbformat_minor": 4
}
